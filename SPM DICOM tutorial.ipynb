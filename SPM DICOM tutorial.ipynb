{
 "cells": [
  {
   "cell_type": "markdown",
   "metadata": {},
   "source": [
    "# Defining the DICOM orientation\n",
    "\n",
    "The Idea of this is to emulate the information gathered from  [nibabel](http://nipy.org/nibabel/dicom/dicom_orientation.html)\n",
    "and [spm_dicom_orient.py](http://nipy.org/nibabel/_downloads/spm_dicom_orient.py) into one handy jupyter notebook with the explanations along with the sympy output.\n",
    "\n",
    "This page describes the DICOM orientaion. The sections will be as follows:\n",
    "\n",
    "1. Defining the **DICOM** orientation\n",
    "* DICOM patient coordinate system\n",
    "* DICOM pixel data\n",
    "* Pixel spacing\n",
    "* DICOM voxel to patient coordinate system mapping\n",
    "* (i, j), columns, rows in DICOM\n",
    "* DICOM affines again\n",
    "* DICOM affine formula\n",
    "* Getting a 3D affine from a DICOM slice or list of slices\n",
    "* DICOM affine Definitions\n",
    "* Derivations\n",
    "* 3D affine formulae\n",
    "* Working out the Z coordinates for a set of slices"
   ]
  },
  {
   "cell_type": "markdown",
   "metadata": {},
   "source": [
    "# DICOM patient coordinate system\n",
    "First we define the standard DICOM patient-based coordinate system. This is what DICOM means by $x$, $y$ and $z$ axes in its orientation specification. From section C.7.6.2.1.1 of the From section C.7.6.2.1.1 of the [DICOM object definitions](ftp://medical.nema.org/medical/dicom/2011/11_03pu3.pdf) (2009):\n",
    "\n",
    " > If Anatomical Orientation Type (0010,2210) is absent or has a value of BIPED, the x-axis is increasing to the left hand side of the patient. The y-axis is increasing to the posterior side of the patient. The z-axis is increasing toward the head of the patient.\n",
    "\n",
    "(we’ll ignore the quadupeds for now).\n",
    "\n",
    "Three major cuts we have (or planes):\n",
    "\n",
    "Transverse (AKA Axial) divides head from feet\n",
    "![axial](img/Axial-Cut.png)\n",
    "\n",
    "Sagitall Cut - right between the eyes\n",
    "![saggital](img/Sagittal-Cut.png)\n",
    "\n",
    "Coronal Cut - the Filet\n",
    "![coronal](img/Coronal.png)\n",
    "\n",
    "In a way it’s funny to call this the ‘patient-based’ coordinate system. ‘Doctor-based coordinate system’ is a better name.\n",
    "\n",
    "DICOM defines a term: \"Reference Coordinates System\" or RCS.  The RCS is a very intuitive coordinate system of the patient body: $X$ direction is from Right to Left. So if the patient is standing in front of you with the arm raised to the sides, then $X$ direction is from the right hand to the left hand.\n",
    "![x-orientation](img/Patient-X.png)\n",
    "\n",
    "$Y$ direction is from front to back or medical-wise from Anterior to Posterior so if the patient is standing in front of you so you see him/her from his/her left side, then $Y$ goes from your left to your right (confusing? look at the picture).\n",
    "![y-orientation](img/Patient-Y.png)\n",
    "\n",
    "$Z$ direction goes from Feet to Head. At least this is simple to explain.\n",
    "![z-orientation](img/Patient-Z.png)\n",
    "\n",
    "Now that we know the directions, there are letters assigned to the ends of each direction:\n",
    "\n",
    "* [R] - Right - The direction in which X decreases. \n",
    "* [L] - Left - The direction in which X increases. \n",
    "* [A] - Anterior - The direction in which Y decreases. \n",
    "* [P] - Posterior - The direction in which Y increases. \n",
    "* [F] - Feet - The direction in which Z decreases. \n",
    "* [H] - Head - The direction in which Z increases."
   ]
  },
  {
   "cell_type": "markdown",
   "metadata": {},
   "source": [
    "#  DICOM pixel data\n",
    "C.7.6.3.1.4 - Pixel Data\n",
    "\n",
    "> Pixel Data (7FE0,0010) for this image. The order of pixels sent for each image plane is left to right, top to bottom, i.e., the upper left pixel (labeled 1,1) is sent first followed by the remainder of row 1, followed by the first pixel of row 2 (labeled 2,1) then the remainder of row 2 and so on.\n",
    "\n",
    "The resulting pixel array then has size (‘Rows’, ‘Columns’), with row-major storage (rows first, then columns). We’ll call this the DICOM pixel array. Thinking about it in the image plane (not with respect to the RCS), $X$ is vertical (rows) and increasing downward and $Y$ is horizontal (columns) increasing left to right.\n",
    "\n",
    "# Pixel spacing\n",
    "Section 10.7.1.3: Pixel Spacing\n",
    "\n",
    "> The first value is the row spacing in mm, that is the spacing between the centers of adjacent rows, or vertical spacing. The second value is the column spacing in $mm$, that is the spacing between the centers of adjacent columns, or horizontal spacing."
   ]
  },
  {
   "cell_type": "markdown",
   "metadata": {},
   "source": [
    "# DICOM voxel to patient coordinate system mapping\n",
    "See:\n",
    "\n",
    "* http://www.dclunie.com/medical-image-faq/html/part2.html\n",
    "* http://fixunix.com/dicom/50449-image-position-patient-image-orientation-patient.html\n",
    "See [wikipedia direction cosine](https://en.wikipedia.org/wiki/Direction_cosine) for a definition of direction cosines.\n",
    "\n",
    "From section C.7.6.2.1.1 of the [DICOM object definitions](http://dicom.nema.org/medical/dicom/current/output/pdf/part03.pdf) (2009):\n",
    "\n",
    "> The Image Position (0020,0032) specifies the $x$, $y$, and $z$ coordinates of the upper left hand corner of the image; it is the center of the first voxel transmitted. Image Orientation (0020,0037) specifies the direction cosines of the first row and the first column with respect to the patient. These Attributes shall be provide as a pair. Row value for the $x$, $y$, and $z$ axes respectively followed by the Column value for the $x$, $y$, and $z$ axes respectively.\n",
    "\n",
    "From Section C.7.6.1.1.1 we see that the ‘positive row axis’ is left to right, and is the direction of the rows, given by the direction of last pixel in the first row from the first pixel in that row. Similarly the ‘positive column axis’ is top to bottom and is the direction of the columns, given by the direction of the last pixel in the first column from the first pixel in that column.\n",
    "\n",
    "Let’s rephrase: the first three values of ‘Image Orientation Patient’ are the direction cosine for the ‘positive row axis’. That is, they express the direction change in ($x$, $y$, $z$), in the DICOM patient coordinate system (DPCS), as you move along the row. That is, as you move from one column to the next. That is, as the column array index changes. Similarly, the second triplet of values of ‘Image Orientation Patient’ ( **img_ornt_pat[3:]** in Python), are the direction cosine for the ‘positive column axis’, and express the direction you move, in the DPCS, as you move from row to row, and therefore as the row index changes.\n",
    "\n",
    "Further down section C.7.6.2.1.1 (RCS below is the reference coordinate system - see [DICOM object definitions](http://dicom.nema.org/medical/dicom/current/output/pdf/part03.pdf) section 3.17.1):\n",
    "\n",
    "> The Image Plane Attributes, in conjunction with the Pixel Spacing Attribute, describe the position and orientation of the image slices relative to the patient-based coordinate system. In each image frame the Image Position (Patient) (0020,0032) specifies the origin of the image with respect to the patient-based coordinate system. RCS and the Image Orientation (Patient) (0020,0037) attribute values specify the orientation of the image frame rows and columns. The mapping of pixel location ($i$, $j$) to the RCS is calculated as follows:\n",
    "    \n",
    "$$\\begin{bmatrix}\n",
    "  P_x  \\\\ P_y \\\\ P_z \\\\ 1\n",
    "  \\end{bmatrix}\n",
    "= \\begin{bmatrix}\n",
    "  X_x \\Delta_i & Y_x \\Delta_j & 0 & S_x \\\\\n",
    "  X_y \\Delta_i & Y_y \\Delta_j & 0 & S_y \\\\\n",
    "  X_z \\Delta_i & Y_z \\Delta_j & 0 & S_z \\\\\n",
    "  0 & 0 & 0  & 1 \\\\\n",
    "  \\end{bmatrix}\n",
    "  \\begin{bmatrix}\n",
    "  i  \\\\ j \\\\ 0 \\\\ 1\n",
    "  \\end{bmatrix}\n",
    "  =   M \\begin{bmatrix}\n",
    "  i  \\\\ j \\\\ 0 \\\\ 1\n",
    "  \\end{bmatrix}\n",
    "$$\n",
    "\n",
    "Where:\n",
    "\n",
    "* $P_{xyz}$ : The coordinates of the voxel (i,j) in the frame’s image plane in units of mm.\n",
    "* $S_{xyz}$ : The three values of the Image Position (Patient) (0020,0032) attributes. It is the location in mm from the origin of the RCS.\n",
    "* $X_{xyz}$ : The values from the row (X) direction cosine of the Image Orientation (Patient) (0020,0037) attribute.\n",
    "* $Y_{xyz}$ : The values from the column (Y) direction cosine of the Image Orientation (Patient) (0020,0037) attribute.\n",
    "* $i$ : Column index to the image plane. The first column is index zero.\n",
    "* $\\Delta_i$ : Column pixel resolution of the Pixel Spacing (0028,0030) attribute in units of mm.\n",
    "* $j$ : Row index to the image plane. The first row index is zero.\n",
    "* $\\Delta_j$ : Row pixel resolution of the Pixel Spacing (0028,0030) attribute in units of mm.\n",
    "\n"
   ]
  },
  {
   "cell_type": "markdown",
   "metadata": {},
   "source": [
    "# $(i, j)$, columns, rows in DICOM\n",
    "We stop to ask ourselves, what does DICOM mean by voxel $(i, j)$?\n",
    "\n",
    "Isn’t that obvious? Oh dear, no it isn’t. See the [DICOM voxel to patient coordinate system mapping](#DICOM voxel to patient coordinate system mapping) formula above. In particular, you’ll see that thinking in terms of the traditional $X$-$Y$ graph:\n",
    "\n",
    "* i : Column index to the image plane. The first column is index zero. think $X$ direction\n",
    "* j : Row index to the image plane. The first row index is zero. think $Y$ direction\n",
    "\n",
    "\n",
    "That is, if we have the [DICOM pixel data](#DICOM pixel data) as defined above, and we call that **pixel_array** , then voxel ($i$, $j$) in the notation above is given by **pixel_array**[$j$, $i$]. Essentially we need to switch $i$ and $j$\n",
    "\n",
    "What does this mean? It means that, if we want to apply the formula above to array indices in **pixel_array**, we first have to apply a column / row flip to the indices. Say $M_{pixelArr}$ is the affine to go from array indices in **pixel_array** to $mm$ in the DPCS. Then, given $M$ above:\n",
    "$$ M_{pixelArr} = M \\begin{bmatrix}\n",
    "  0 & 1 & 0 & 0 \\\\\n",
    "  1 & 0 & 0 & 0 \\\\\n",
    "  0 & 0 & 1 & 0 \\\\\n",
    "  0 & 0 & 0  & 1 \\\\\n",
    "  \\end{bmatrix}\n",
    "$$"
   ]
  },
  {
   "cell_type": "markdown",
   "metadata": {},
   "source": [
    "# DICOM affines again\n",
    "The [(i, j), columns, rows in DICOM](# \\(i, j\\), columns, rows in DICOM) is rather confusing, so we’re going to rephrase the affine mapping; we’ll use $r$ for the row index (instead of $j$ above), and $c$ for the column index (instead of $i$).\n",
    "\n",
    "Next we define a flipped version of ‘ImageOrientationPatient’, $F$, that has flipped columns. Thus if the vector of 6 values in ‘ImageOrientationPatient’ are $(i_1 ... i_6)$, then:\n",
    "$$ F = \\begin{bmatrix}\n",
    "  i_4 & i_1 \\\\\n",
    "  i_5 & i_2 \\\\\n",
    "  i_6 & i_3 \\\\\n",
    "  \\end{bmatrix}\n",
    "  =\n",
    "  \\begin{bmatrix}\n",
    "  F_{11} & F_{12} \\\\\n",
    "  F_{21} & F_{22} \\\\\n",
    "  F_{31} & F_{32} \\\\\n",
    "  \\end{bmatrix}\n",
    "$$\n",
    "\n",
    "Now the first column of $F$ contains what the DICOM docs call the ‘column ($Y$) direction cosine’, and second column contains the ‘row ($X)$ direction cosine’. We prefer to think of these as (respectively) the row index direction cosine and the column index direction cosine.\n",
    "\n",
    "Now we can rephrase the DICOM affine mapping with:\n",
    "\n",
    "$$\\begin{bmatrix}\n",
    "  P_x  \\\\ P_y \\\\ P_z \\\\ 1\n",
    "  \\end{bmatrix}\n",
    "= \\begin{bmatrix}\n",
    "  F_{11} \\Delta r & F_{12} \\Delta c & 0 & S_x \\\\\n",
    "  F_{21} \\Delta r & F_{22} \\Delta c & 0 & S_y \\\\\n",
    "  F_{31} \\Delta r & F_{32} \\Delta c & 0 & S_z \\\\\n",
    "  0 & 0 & 0  & 1 \\\\\n",
    "  \\end{bmatrix}\n",
    "  \\begin{bmatrix}\n",
    "  r  \\\\ c \\\\ 0 \\\\ 1\n",
    "  \\end{bmatrix}\n",
    "  =   A \\begin{bmatrix}\n",
    "  r  \\\\ c \\\\ 0 \\\\ 1\n",
    "  \\end{bmatrix}\n",
    "$$\n",
    "\n",
    "Where:\n",
    "\n",
    "* $P_{xyz}$ : The coordinates of the voxel ($c$, $r$) in the frame’s image plane in units of mm.\n",
    "* $S_{xyz}$ : The three values of the Image Position (Patient) (0020,0032) attributes. It is the location in mm from the origin of the RCS.\n",
    "* $F_{:,1}$ : The values from the column (Y) direction cosine of the Image Orientation (Patient) (0020,0037) attribute - see above.\n",
    "* $F_{:,2}$ : The values from the row (X) direction cosine of the Image Orientation (Patient) (0020,0037) attribute - see above.\n",
    "* $c$ : Column index to the image plane. The first column is index zero.\n",
    "* $\\Delta c$ : Column pixel resolution of the Pixel Spacing (0028,0030) attribute in units of mm.\n",
    "* $r$ : Row index to the image plane. The first row index is zero.\n",
    "* $\\Delta r$ : Row pixel resolution of the Pixel Spacing (0028,0030) attribute in units of mm.\n",
    "\n",
    "For later convenience we also define values useful for 3D volumes:\n",
    "\n",
    "* $s$ : slice index to the slice plane. The first slice index is zero.\n",
    "* $\\Delta s$ : spacing in mm between slices."
   ]
  },
  {
   "cell_type": "markdown",
   "metadata": {},
   "source": [
    "# Getting a 3D affine from a DICOM slice or list of slices\n",
    "Let us say, we have a single DICOM file, or a list of DICOM files that we believe to be a set of slices from the same volume. We’ll call the first the _single slice_ case, and the second, _multi slice_.\n",
    "\n",
    "In the _multi slice_ case, we can assume that the ‘ImageOrientationPatient’ field is the same for all the slices.\n",
    "\n",
    "We want to get the affine transformation matrix A that maps from voxel coordinates in the DICOM file(s), to $mm$ in the [DICOM patient coordinate system]().\n",
    "\n",
    "By voxel coordinates, we mean coordinates of form ($r$,$c$,$s$) - the row, column and slice indices - as for the [DICOM affine formula]().\n",
    "\n",
    "In the single slice case, the voxel coordinates are just the indices into the pixel array, with the third (slice) coordinate always being 0.\n",
    "\n",
    "In the _multi-slice_ case, we have arranged the slices in ascending or descending order, where slice numbers range from $0$ to $N−1$ - where $N$ is the number of slices - and the slice coordinate is a number on this scale.\n",
    "\n",
    "We know, from [DICOM affine formula](), that the first, second and fourth columns in $A$ are given directly by the (flipped) ‘ImageOrientationPatient’, ‘PixelSpacing’ and ‘ImagePositionPatient’ field of the first (or only) slice.\n",
    "\n",
    "Our job then is to fill the first three rows of the third column of $A$. Let’s call this the vector $\\textbf{k}$ with values $k_1$, $k_2$, $k_3$.\n",
    "\n",
    "# DICOM affine Definitions\n",
    "See also the definitions in [DICOM affine formula](). In addition\n",
    "\n",
    "* $T_1$ is the 3 element vector of the ‘ImagePositionPatient’ field of the first header in the list of headers for this volume.\n",
    "* $T_N$ is the ‘ImagePositionPatient’ vector for the last header in the list for this volume, if there is more than one header in the volume.\n",
    "* vector $\\textbf{n}=(n_1,n_2,n_3)$ is the result of taking the cross product of the two columns of $F$ from [DICOM affine formula]()."
   ]
  },
  {
   "cell_type": "markdown",
   "metadata": {},
   "source": [
    "# Derivations\n",
    "For the single slice case we just fill $\\textbf{k}$ with $\\textbf{n} \\cdot \\Delta s $ - on the basis that the $Z$ dimension should be right-handed orthogonal to the $X$ and $Y$ directions.\n",
    "\n",
    "For the multi-slice case, we can fill in $k$ by using the information from $T^N$, because $T^N$ is the translation needed to take the first voxel in the last ( $slice index = N−1$ ) slice to $mm$ space. So:\n",
    "\n",
    "$$ \\left(T^N_1\\right) = A  \n",
    "\\begin{bmatrix}\n",
    "  0  \\\\ 0 \\\\ -1 + N \\\\ 1\n",
    "  \\end{bmatrix}\n",
    "$$\n",
    "\n",
    "From this it follows that:\n",
    "$$\\left\\{k_1 : \\frac{T^1_1 - T^N_1}{1-N},\\: k_2 : \\frac{T^1_2 - T^N_2}{1-N}\n",
    ",\\: k_3 : \\frac{T^1_3 - T^N_3}{1-N}\\right\\}$$\n",
    "\n",
    "and therefore:\n",
    "# 3D affine formulae\n",
    "\n",
    "$$A_{multi}\n",
    "= \\begin{bmatrix}\n",
    "  F_{11} \\Delta r & F_{12} \\Delta c & \\frac{T^1_1 - T^N_1}{1-N} & T^1_1 \\\\\n",
    "  F_{21} \\Delta r & F_{22} \\Delta c & \\frac{T^1_2 - T^N_2}{1-N} & T^1_2 \\\\\n",
    "  F_{31} \\Delta r & F_{32} \\Delta c & \\frac{T^1_3 - T^N_3}{1-N} & T^1_3 \\\\\n",
    "  0 & 0 & 0  & 1 \\\\\n",
    "  \\end{bmatrix}\n",
    "$$\n",
    "\n",
    "$$A_{single}\n",
    "= \\begin{bmatrix}\n",
    "  F_{11} \\Delta r & F{12} \\Delta c & \\Delta s n_1 & T^1_1 \\\\\n",
    "  F_{21} \\Delta r & F_{22} \\Delta c & \\Delta s n_2 & T^1_2 \\\\\n",
    "  F_{31} \\Delta r & F_{32} \\Delta c & \\Delta s n_3 & T^1_3 \\\\\n",
    "  0 & 0 & 0  & 1 \\\\\n",
    "  \\end{bmatrix}\n",
    "$$\n",
    "\n",
    "See derivations/spm_dicom_orient.py for the derivations and some explanations\n"
   ]
  },
  {
   "cell_type": "markdown",
   "metadata": {},
   "source": [
    "# Working out the Z coordinates for a set of slices\n",
    "We may have the problem (see e.g. Sorting files into volumes) of trying to sort a set of slices into anatomical order. For this we want to use the orientation information to tell us where the slices are in space, and therefore, what order they should have.\n",
    "\n",
    "To do this sorting, we need something that is proportional, plus a constant, to the voxel coordinate for the slice (the value for the slice index).\n",
    "\n",
    "Our DICOM might have the ‘SliceLocation’ field (0020,1041). ‘SliceLocation’ seems to be proportianal to slice location, at least for some GE and Philips DICOMs I was looking at. But, there is a more reliable way (that doesn’t depend on this field), and uses only the very standard ‘ImageOrientationPatient’ and ‘ImagePositionPatient’ fields.\n",
    "\n",
    "Consider the case where we have a set of slices, of unknown order, from the same volume.\n",
    "\n",
    "Now let us say we have one of these slices - slice $i$. We have the affine for this slice from the calculations above, for a single slice ($A_{single}$).\n",
    "\n",
    "Now let’s say we have another slice $j$ from the same volume. It will have the same affine, except that the ‘ImagePositionPatient’ field will change to reflect the different position of this slice in space. Let us say that there a translation of $d$ slices between $i$ and $j$. If $A_i$ ($A$ for slice $i$) is $A_{single}$ then $A_j$ for $j$ is given by:\n",
    "\n",
    "$$ A_j = A_{single} \\begin{bmatrix}\n",
    "  1 & 0 & 0 & 0 \\\\\n",
    "  0 & 1 & 0 & 0 \\\\\n",
    "  0 & 0 & 1 & d \\\\\n",
    "  0 & 0 & 0  & 1 \\\\\n",
    "  \\end{bmatrix}\n",
    "$$\n",
    "\n",
    "and ‘ImagePositionPatient’ for $j$ is:\n",
    "$$ T^j = \\begin{bmatrix}\n",
    "  T^1_1 + \\Delta s d n_1 \\\\ T^1_2 + \\Delta s d n_2 \\\\ T^1_3 + \\Delta s d n_3\n",
    "  \\end{bmatrix}\n",
    "$$\n",
    "\n",
    "Remember that the third column of $A$ gives the vector resulting from a unit change in the slice voxel coordinate. So, the ‘ImagePositionPatient’ of slice - say slice $j$ - can be thought of the addition of two vectors $T^j = \\textbf{a + b}$, where $\\textbf{a}$ is the position of the first voxel in some slice (here slice 1, therefore $\\textbf{a} = T^1$) and $\\textbf{b}$ is $d$ times the third column of $A$. Obviously $d$ can be negative or positive. This leads to various ways of recovering something that is proportional to $d$ plus a constant. The algorithm suggested in this [ITK post on ordering slices](http://www.itk.org/pipermail/insight-users/2003-September/004762.html) - and the one used by SPM - is to take the inner product of $T^j$ with the unit vector component of third column of $A_j$ - in the descriptions here, this is the vector $\\textbf{n}$:\n",
    "\n",
    "$$ T^j\\cdot \\textbf{c} = \\left( T^1_1 n_1 + T^1_2 n_2 + T^1_3 n_3 + \\Delta s d n^2_1 \n",
    "\\Delta s d n^2_2 + \\Delta s d n^2_3 \\right) $$\n",
    "This is the distance of ‘ImagePositionPatient’ along the slice direction cosine.\n",
    "\n",
    "The unknown $T^1$ terms pool into a constant, and the operation has the neat feature that, because the $n^2_{123}$ terms, by definition, sum to 1, the whole can be expressed as $\\gamma + \\Delta s d $ - i.e. it is equal to the slice voxel size ( $\\Delta s $) multiplied by $d$, plus a constant.\n",
    "\n",
    "Again, see derivations/spm_dicom_orient.py for the derivations."
   ]
  },
  {
   "cell_type": "code",
   "execution_count": 1,
   "metadata": {
    "collapsed": false
   },
   "outputs": [],
   "source": [
    "\"\"\" Symbolic versions of the DICOM orientation mathemeatics.\n",
    "\n",
    "Notes on the SPM orientation machinery.\n",
    "\n",
    "There are symbolic versions of the code in ``spm_dicom_convert``,\n",
    "``write_volume`` subfunction, around line 509 in the version I have\n",
    "(SPM8, late 2009 vintage).\n",
    "\"\"\"\n",
    "import numpy as np\n",
    "import sympy as sym\n",
    "from sympy.abc import x\n",
    "from IPython.display import display, Math, Latex\n",
    "import IPython.display as disp\n",
    "from __future__ import division\n",
    "#from sympy.interactive import printing\n",
    "\n",
    "\"\"\"after running this, all math output\n",
    "will be formatted nicely for the duration\n",
    "of the notebook session\n",
    "\"\"\"\n",
    "sym.init_printing() #use_latex='mathjax') #use_latex=True)\n",
    "#sym.init_session(quiet=True) \n",
    "#%load_ext sympyprinting\n",
    "#%pylab inline\n",
    "\n",
    "#import matplotlib.pyplot as plt\n",
    "#%matplotlib inline"
   ]
  },
  {
   "cell_type": "code",
   "execution_count": 2,
   "metadata": {
    "collapsed": true
   },
   "outputs": [],
   "source": [
    "# The code below is general (independent of SPMs code)\n",
    "def numbered_matrix(nrows, ncols, symbol_prefix):\n",
    "    return sym.Matrix(nrows, ncols, lambda i, j: sym.Symbol(\n",
    "            symbol_prefix + '_{%d%d}' % (i+1, j+1)))\n",
    "\n",
    "def numbered_vector(nrows, symbol_prefix):\n",
    "    return sym.Matrix(nrows, 1, lambda i, j: sym.Symbol(\n",
    "            symbol_prefix + '_{%d}' % (i+1)))\n",
    "\n",
    "# Dump out the formulae here to latex for the RST docs\n",
    "def my_latex(expr):\n",
    "    S = sym.latex(expr)\n",
    "    return S[1:-1]\n",
    "\n",
    "def spm_full_matrix(x2, y2, to_inv, inv_lhs):\n",
    "    rhs = to_inv[:,:]\n",
    "    rhs[:,1] = x2\n",
    "    lhs = inv_lhs[:,:]\n",
    "    lhs[:,1] = y2\n",
    "    return lhs * rhs.inv()\n",
    "\n",
    "def disp_eqn(expr):\n",
    "    disp.display_latex(expr)"
   ]
  },
  {
   "cell_type": "code",
   "execution_count": 3,
   "metadata": {
    "collapsed": false
   },
   "outputs": [
    {
     "data": {
      "text/latex": [
       "$$\\left[\\begin{matrix}1 & 0 & 0 & 1\\\\0 & 1 & 0 & 1\\\\0 & 0 & 1 & 1\\\\0 & 0 & 0 & 1\\end{matrix}\\right]$$"
      ]
     },
     "metadata": {},
     "output_type": "display_data"
    },
    {
     "data": {
      "text/latex": [
       "$$\\left[\\begin{matrix}0 & 1 & 0 & 0\\\\1 & 0 & 0 & 0\\\\0 & 0 & 1 & 0\\\\0 & 0 & 0 & 1\\end{matrix}\\right]$$"
      ]
     },
     "metadata": {},
     "output_type": "display_data"
    }
   ],
   "source": [
    "# premultiplication matrix to go from 0 based to 1 based indexing\n",
    "one_based = sym.eye(4)\n",
    "one_based[:3,3] = (1,1,1)\n",
    "\n",
    "disp_eqn(one_based)\n",
    "# premult for swapping row and column indices\n",
    "row_col_swap = sym.eye(4)\n",
    "row_col_swap[:,0] = sym.eye(4)[:,1] \n",
    "row_col_swap[:,1] = sym.eye(4)[:,0]\n",
    "disp_eqn(row_col_swap)"
   ]
  },
  {
   "cell_type": "code",
   "execution_count": 4,
   "metadata": {
    "collapsed": false
   },
   "outputs": [
    {
     "data": {
      "text/latex": [
       "$$\\left[\\begin{matrix}F_{{11}} & F_{{12}}\\\\F_{{21}} & F_{{22}}\\\\F_{{31}} & F_{{32}}\\end{matrix}\\right]$$"
      ]
     },
     "metadata": {},
     "output_type": "display_data"
    }
   ],
   "source": [
    "# various worming matrices\n",
    "orient_pat = numbered_matrix(3, 2, 'F')\n",
    "disp_eqn(orient_pat)"
   ]
  },
  {
   "cell_type": "code",
   "execution_count": 5,
   "metadata": {
    "collapsed": false
   },
   "outputs": [
    {
     "data": {
      "text/latex": [
       "$$\\left[\\begin{matrix}n_{{1}}\\\\n_{{2}}\\\\n_{{3}}\\end{matrix}\\right]$$"
      ]
     },
     "metadata": {},
     "output_type": "display_data"
    }
   ],
   "source": [
    "orient_cross = numbered_vector(3, 'n')\n",
    "disp_eqn(orient_cross)"
   ]
  },
  {
   "cell_type": "code",
   "execution_count": 6,
   "metadata": {
    "collapsed": false
   },
   "outputs": [
    {
     "data": {
      "text/latex": [
       "$$\\left[\\begin{matrix}k_{{1}}\\\\k_{{2}}\\\\k_{{3}}\\end{matrix}\\right]$$"
      ]
     },
     "metadata": {},
     "output_type": "display_data"
    }
   ],
   "source": [
    "missing_r_col = numbered_vector(3, 'k')\n",
    "disp_eqn(missing_r_col)"
   ]
  },
  {
   "cell_type": "code",
   "execution_count": 7,
   "metadata": {
    "collapsed": false
   },
   "outputs": [
    {
     "data": {
      "text/latex": [
       "$$\\left[\\begin{matrix}T^{1}_{{1}}\\\\T^{1}_{{2}}\\\\T^{1}_{{3}}\\end{matrix}\\right]$$"
      ]
     },
     "metadata": {},
     "output_type": "display_data"
    }
   ],
   "source": [
    "pos_pat_0 = numbered_vector(3, 'T^1')\n",
    "disp_eqn(pos_pat_0)"
   ]
  },
  {
   "cell_type": "code",
   "execution_count": 8,
   "metadata": {
    "collapsed": false
   },
   "outputs": [
    {
     "data": {
      "text/latex": [
       "$$\\left[\\begin{matrix}T^{N}_{{1}}\\\\T^{N}_{{2}}\\\\T^{N}_{{3}}\\end{matrix}\\right]$$"
      ]
     },
     "metadata": {},
     "output_type": "display_data"
    },
    {
     "data": {
      "text/latex": [
       "$$\\left ( \\Delta{r}, \\quad \\Delta{c}\\right )$$"
      ]
     },
     "metadata": {},
     "output_type": "display_data"
    },
    {
     "data": {
      "text/latex": [
       "$$N$$"
      ]
     },
     "metadata": {},
     "output_type": "display_data"
    },
    {
     "data": {
      "text/latex": [
       "$$\\Delta{s}$$"
      ]
     },
     "metadata": {},
     "output_type": "display_data"
    }
   ],
   "source": [
    "pos_pat_N = numbered_vector(3, 'T^N')\n",
    "\n",
    "pixel_spacing = sym.symbols(('\\Delta{r}', '\\Delta{c}'))\n",
    "NZ = sym.Symbol('N')\n",
    "slice_thickness = sym.Symbol('\\Delta{s}')\n",
    "disp_eqn(pos_pat_N)\n",
    "disp_eqn(pixel_spacing)\n",
    "disp_eqn(NZ)\n",
    "disp_eqn(slice_thickness)"
   ]
  },
  {
   "cell_type": "code",
   "execution_count": 9,
   "metadata": {
    "collapsed": false
   },
   "outputs": [
    {
     "data": {
      "text/latex": [
       "$$\\left[\\begin{matrix}F_{{11}} \\Delta{r} & F_{{12}} \\Delta{c}\\\\F_{{21}} \\Delta{r} & F_{{22}} \\Delta{c}\\\\F_{{31}} \\Delta{r} & F_{{32}} \\Delta{c}\\\\0 & 0\\end{matrix}\\right]$$"
      ]
     },
     "metadata": {},
     "output_type": "display_data"
    }
   ],
   "source": [
    "R3 = orient_pat * np.diag(pixel_spacing)\n",
    "#disp_eqn(R3)\n",
    "R = sym.zeros(4,2)\n",
    "R[:3,:] = R3\n",
    "#disp_eqn(R3)\n",
    "disp_eqn(R)"
   ]
  },
  {
   "cell_type": "code",
   "execution_count": 10,
   "metadata": {
    "collapsed": false
   },
   "outputs": [
    {
     "data": {
      "text/latex": [
       "$$\\left[\\begin{matrix}1\\\\1\\\\1\\\\1\\end{matrix}\\right]$$"
      ]
     },
     "metadata": {},
     "output_type": "display_data"
    },
    {
     "data": {
      "text/latex": [
       "$$\\left[\\begin{matrix}T^{1}_{{1}}\\\\T^{1}_{{2}}\\\\T^{1}_{{3}}\\\\1\\end{matrix}\\right]$$"
      ]
     },
     "metadata": {},
     "output_type": "display_data"
    }
   ],
   "source": [
    "# The following is specific to the SPM algorithm. \n",
    "x1 = sym.ones(4,1)\n",
    "y1 = sym.ones(4,1)\n",
    "y1[:3,:] = pos_pat_0\n",
    "disp_eqn(x1)\n",
    "disp_eqn(y1)"
   ]
  },
  {
   "cell_type": "code",
   "execution_count": 11,
   "metadata": {
    "collapsed": false
   },
   "outputs": [
    {
     "data": {
      "text/latex": [
       "$$\\left[\\begin{matrix}1 & a & 1 & 0\\\\1 & b & 0 & 1\\\\1 & c & 0 & 0\\\\1 & d & 0 & 0\\end{matrix}\\right]$$"
      ]
     },
     "metadata": {},
     "output_type": "display_data"
    }
   ],
   "source": [
    "to_inv = sym.zeros(4,4)\n",
    "to_inv[:,0] = x1\n",
    "to_inv[:,1] = sym.symbols('a, b, c, d')\n",
    "to_inv[0,2] = 1\n",
    "to_inv[1,3] = 1\n",
    "disp_eqn(to_inv)"
   ]
  },
  {
   "cell_type": "code",
   "execution_count": 12,
   "metadata": {
    "collapsed": false
   },
   "outputs": [
    {
     "data": {
      "text/latex": [
       "$$\\left[\\begin{matrix}T^{1}_{{1}} & e & F_{{11}} \\Delta{r} & F_{{12}} \\Delta{c}\\\\T^{1}_{{2}} & f & F_{{21}} \\Delta{r} & F_{{22}} \\Delta{c}\\\\T^{1}_{{3}} & g & F_{{31}} \\Delta{r} & F_{{32}} \\Delta{c}\\\\1 & h & 0 & 0\\end{matrix}\\right]$$"
      ]
     },
     "metadata": {},
     "output_type": "display_data"
    }
   ],
   "source": [
    "inv_lhs = sym.zeros(4,4)\n",
    "inv_lhs[:,0] = y1\n",
    "inv_lhs[:,1] = sym.symbols('e, f, g, h')\n",
    "inv_lhs[:,2:] = R\n",
    "disp_eqn(inv_lhs)"
   ]
  },
  {
   "cell_type": "code",
   "execution_count": 13,
   "metadata": {
    "collapsed": false
   },
   "outputs": [
    {
     "data": {
      "text/latex": [
       "$$\\left[\\begin{matrix}F_{{11}} & F_{{12}} & n_{{1}}\\\\F_{{21}} & F_{{22}} & n_{{2}}\\\\F_{{31}} & F_{{32}} & n_{{3}}\\end{matrix}\\right]$$"
      ]
     },
     "metadata": {},
     "output_type": "display_data"
    }
   ],
   "source": [
    "# single slice case\n",
    "orient = sym.zeros(3,3)\n",
    "orient[:3,:2] = orient_pat\n",
    "orient[:,2] = orient_cross\n",
    "disp_eqn(orient)"
   ]
  },
  {
   "cell_type": "code",
   "execution_count": 14,
   "metadata": {
    "collapsed": false
   },
   "outputs": [
    {
     "data": {
      "text/latex": [
       "$$\\left[\\begin{matrix}0\\\\0\\\\1\\\\0\\end{matrix}\\right]$$"
      ]
     },
     "metadata": {},
     "output_type": "display_data"
    },
    {
     "data": {
      "text/latex": [
       "$$\\left[\\begin{matrix}\\Delta{s} n_{{1}}\\\\\\Delta{s} n_{{2}}\\\\\\Delta{s} n_{{3}}\\\\0\\end{matrix}\\right]$$"
      ]
     },
     "metadata": {},
     "output_type": "display_data"
    },
    {
     "data": {
      "text/latex": [
       "$$\\left[\\begin{matrix}F_{{11}} \\Delta{r} & F_{{12}} \\Delta{c} & \\Delta{s} n_{{1}} & - F_{{11}} \\Delta{r} - F_{{12}} \\Delta{c} + T^{1}_{{1}} - \\Delta{s} n_{{1}}\\\\F_{{21}} \\Delta{r} & F_{{22}} \\Delta{c} & \\Delta{s} n_{{2}} & - F_{{21}} \\Delta{r} - F_{{22}} \\Delta{c} + T^{1}_{{2}} - \\Delta{s} n_{{2}}\\\\F_{{31}} \\Delta{r} & F_{{32}} \\Delta{c} & \\Delta{s} n_{{3}} & - F_{{31}} \\Delta{r} - F_{{32}} \\Delta{c} + T^{1}_{{3}} - \\Delta{s} n_{{3}}\\\\0 & 0 & 0 & 1\\end{matrix}\\right]$$"
      ]
     },
     "metadata": {},
     "output_type": "display_data"
    }
   ],
   "source": [
    "x2_ss = sym.Matrix((0,0,1,0))\n",
    "y2_ss = sym.zeros(4,1)\n",
    "y2_ss[:3,:] = orient * sym.Matrix((0,0,slice_thickness))\n",
    "A_ss = spm_full_matrix(x2_ss, y2_ss, to_inv, inv_lhs)\n",
    "disp_eqn(x2_ss)\n",
    "disp_eqn(y2_ss)\n",
    "disp_eqn(A_ss)"
   ]
  },
  {
   "cell_type": "code",
   "execution_count": 15,
   "metadata": {
    "collapsed": false
   },
   "outputs": [
    {
     "data": {
      "text/latex": [
       "$$\\left[\\begin{matrix}F_{{11}} \\Delta{r} & F_{{12}} \\Delta{c} & - \\frac{T^{1}_{{1}}}{N - 1} + \\frac{T^{N}_{{1}}}{N - 1} & - F_{{11}} \\Delta{r} - F_{{12}} \\Delta{c} + T^{1}_{{1}} \\left(1 + \\frac{1}{N - 1}\\right) - \\frac{T^{N}_{{1}}}{N - 1}\\\\F_{{21}} \\Delta{r} & F_{{22}} \\Delta{c} & - \\frac{T^{1}_{{2}}}{N - 1} + \\frac{T^{N}_{{2}}}{N - 1} & - F_{{21}} \\Delta{r} - F_{{22}} \\Delta{c} + T^{1}_{{2}} \\left(1 + \\frac{1}{N - 1}\\right) - \\frac{T^{N}_{{2}}}{N - 1}\\\\F_{{31}} \\Delta{r} & F_{{32}} \\Delta{c} & - \\frac{T^{1}_{{3}}}{N - 1} + \\frac{T^{N}_{{3}}}{N - 1} & - F_{{31}} \\Delta{r} - F_{{32}} \\Delta{c} + T^{1}_{{3}} \\left(1 + \\frac{1}{N - 1}\\right) - \\frac{T^{N}_{{3}}}{N - 1}\\\\0 & 0 & 0 & 1\\end{matrix}\\right]$$"
      ]
     },
     "metadata": {},
     "output_type": "display_data"
    },
    {
     "data": {
      "text/latex": [
       "$$\\left[\\begin{matrix}F_{{11}} \\Delta{r} & F_{{12}} \\Delta{c} & \\frac{- T^{1}_{{1}} + T^{N}_{{1}}}{N - 1} & \\frac{1}{N - 1} \\left(N T^{1}_{{1}} - T^{N}_{{1}} - \\left(N - 1\\right) \\left(F_{{11}} \\Delta{r} + F_{{12}} \\Delta{c}\\right)\\right)\\\\F_{{21}} \\Delta{r} & F_{{22}} \\Delta{c} & \\frac{- T^{1}_{{2}} + T^{N}_{{2}}}{N - 1} & \\frac{1}{N - 1} \\left(N T^{1}_{{2}} - T^{N}_{{2}} - \\left(N - 1\\right) \\left(F_{{21}} \\Delta{r} + F_{{22}} \\Delta{c}\\right)\\right)\\\\F_{{31}} \\Delta{r} & F_{{32}} \\Delta{c} & \\frac{- T^{1}_{{3}} + T^{N}_{{3}}}{N - 1} & \\frac{1}{N - 1} \\left(N T^{1}_{{3}} - T^{N}_{{3}} - \\left(N - 1\\right) \\left(F_{{31}} \\Delta{r} + F_{{32}} \\Delta{c}\\right)\\right)\\\\0 & 0 & 0 & 1\\end{matrix}\\right]$$"
      ]
     },
     "metadata": {},
     "output_type": "display_data"
    }
   ],
   "source": [
    "# many slice case\n",
    "x2_ms = sym.Matrix((1,1,NZ,1))\n",
    "y2_ms = sym.ones(4,1)\n",
    "y2_ms[:3,:] = pos_pat_N\n",
    "A_ms = spm_full_matrix(x2_ms, y2_ms, to_inv, inv_lhs)\n",
    "disp_eqn(A_ms)\n",
    "A_ms.simplify()\n",
    "disp_eqn(A_ms)\n",
    "# End of SPM algorithm"
   ]
  },
  {
   "cell_type": "code",
   "execution_count": 16,
   "metadata": {
    "collapsed": false
   },
   "outputs": [
    {
     "data": {
      "text/latex": [
       "$$\\left[\\begin{matrix}F_{{11}} & F_{{12}} & n_{{1}}\\\\F_{{21}} & F_{{22}} & n_{{2}}\\\\F_{{31}} & F_{{32}} & n_{{3}}\\end{matrix}\\right]$$"
      ]
     },
     "metadata": {},
     "output_type": "display_data"
    },
    {
     "data": {
      "text/latex": [
       "$$\\left ( \\Delta{r}, \\quad \\Delta{c}\\right )$$"
      ]
     },
     "metadata": {},
     "output_type": "display_data"
    },
    {
     "data": {
      "text/latex": [
       "$$\\Delta{s}$$"
      ]
     },
     "metadata": {},
     "output_type": "display_data"
    },
    {
     "data": {
      "text/latex": [
       "$$\\left[\\begin{matrix}F_{{11}} \\Delta{r} & F_{{12}} \\Delta{c} & \\Delta{s} n_{{1}}\\\\F_{{21}} \\Delta{r} & F_{{22}} \\Delta{c} & \\Delta{s} n_{{2}}\\\\F_{{31}} \\Delta{r} & F_{{32}} \\Delta{c} & \\Delta{s} n_{{3}}\\end{matrix}\\right]$$"
      ]
     },
     "metadata": {},
     "output_type": "display_data"
    },
    {
     "data": {
      "text/latex": [
       "$$\\left[\\begin{matrix}F_{{11}} \\Delta{r} & F_{{12}} \\Delta{c} & \\Delta{s} n_{{1}} & T^{1}_{{1}}\\\\F_{{21}} \\Delta{r} & F_{{22}} \\Delta{c} & \\Delta{s} n_{{2}} & T^{1}_{{2}}\\\\F_{{31}} \\Delta{r} & F_{{32}} \\Delta{c} & \\Delta{s} n_{{3}} & T^{1}_{{3}}\\\\0 & 0 & 0 & 1\\end{matrix}\\right]$$"
      ]
     },
     "metadata": {},
     "output_type": "display_data"
    }
   ],
   "source": [
    "# Rather simpler derivation from DICOM affine formulae - see\n",
    "# dicom_orientation.rst\n",
    "\n",
    "# single slice case\n",
    "single_aff = sym.eye(4)\n",
    "rot = orient\n",
    "disp_eqn(rot)\n",
    "disp_eqn(pixel_spacing)\n",
    "disp_eqn(slice_thickness)\n",
    "rot_scale = rot * sym.diag(pixel_spacing[0], pixel_spacing[1],\n",
    "                             [slice_thickness])\n",
    "disp_eqn(rot_scale)\n",
    "single_aff[:3,:3] = rot_scale\n",
    "single_aff[:3,3] = pos_pat_0\n",
    "disp_eqn(single_aff)"
   ]
  },
  {
   "cell_type": "code",
   "execution_count": 17,
   "metadata": {
    "collapsed": false
   },
   "outputs": [
    {
     "data": {
      "text/latex": [
       "$$\\left[\\begin{matrix}F_{{11}} \\Delta{r} & F_{{12}} \\Delta{c} & \\frac{- T^{1}_{{1}} + T^{N}_{{1}}}{N - 1} & T^{1}_{{1}}\\\\F_{{21}} \\Delta{r} & F_{{22}} \\Delta{c} & \\frac{- T^{1}_{{2}} + T^{N}_{{2}}}{N - 1} & T^{1}_{{2}}\\\\F_{{31}} \\Delta{r} & F_{{32}} \\Delta{c} & \\frac{- T^{1}_{{3}} + T^{N}_{{3}}}{N - 1} & T^{1}_{{3}}\\\\0 & 0 & 0 & 1\\end{matrix}\\right]$$"
      ]
     },
     "metadata": {},
     "output_type": "display_data"
    }
   ],
   "source": [
    "# For multi-slice case, we have the start and the end slice position\n",
    "# patient.  This gives us the third column of the affine, because,\n",
    "# ``pat_pos_N = aff * [[0,0,ZN-1,1]].T\n",
    "multi_aff = sym.eye(4)\n",
    "multi_aff[:3,:2] = R3\n",
    "trans_z_N = sym.Matrix((0,0, NZ-1, 1))\n",
    "multi_aff[:3, 2] = missing_r_col\n",
    "multi_aff[:3, 3] = pos_pat_0\n",
    "est_pos_pat_N = multi_aff * trans_z_N\n",
    "eqns = tuple(est_pos_pat_N[:3,0] - pos_pat_N)\n",
    "solved =  sym.solve(eqns, tuple(missing_r_col))\n",
    "multi_aff_solved = multi_aff[:,:]\n",
    "multi_aff_solved[:3,2] = multi_aff_solved[:3,2].subs(solved)\n",
    "disp_eqn(multi_aff_solved)"
   ]
  },
  {
   "cell_type": "code",
   "execution_count": 21,
   "metadata": {
    "collapsed": false
   },
   "outputs": [
    {
     "name": "stdout",
     "output_type": "stream",
     "text": [
      "\\left[\\begin{matrix}F_{{11}} \\Delta{r} & F_{{12}} \\Delta{c} & \\frac{- T^{1}_{{1}} + T^{N}_{{1}}}{N - 1} & T^{1}_{{1}}\\\\F_{{21}} \\Delta{r} & F_{{22}} \\Delta{c} & \\frac{- T^{1}_{{2}} + T^{N}_{{2}}}{N - 1} & T^{1}_{{2}}\\\\F_{{31}} \\Delta{r} & F_{{32}} \\Delta{c} & \\frac{- T^{1}_{{3}} + T^{N}_{{3}}}{N - 1} & T^{1}_{{3}}\\\\0 & 0 & 0 & 1\\end{matrix}\\right]\n"
     ]
    }
   ],
   "source": [
    "#print(sym.latex(multi_aff_solved))"
   ]
  },
  {
   "cell_type": "markdown",
   "metadata": {},
   "source": [
    "showing that the preivous equation is equivalent to the one shown earlier\n",
    "$$\n",
    "\\left[\\begin{matrix}F_{{11}} \\Delta{r} & F_{{12}} \\Delta{c} & \\frac{T^{1}_{{1}} - T^{N}_{{1}}}{1 - N} & T^{1}_{{1}}\\\\F_{{21}} \\Delta{r} & F_{{22}} \\Delta{c} & \\frac{T^{1}_{{2}} - T^{N}_{{2}}}{1 - N} & T^{1}_{{2}}\\\\F_{{31}} \\Delta{r} & F_{{32}} \\Delta{c} & \\frac{ T^{1}_{{3}} - T^{N}_{{3}}}{1 - N} & T^{1}_{{3}}\\\\0 & 0 & 0 & 1\\end{matrix}\\right]$$"
   ]
  },
  {
   "cell_type": "code",
   "execution_count": 23,
   "metadata": {
    "collapsed": false
   },
   "outputs": [
    {
     "data": {
      "text/latex": [
       "$$\\left[\\begin{matrix}F_{{11}} \\Delta{r} & F_{{12}} \\Delta{c} & \\frac{- T^{1}_{{1}} + T^{N}_{{1}}}{N - 1} & T^{1}_{{1}}\\\\F_{{21}} \\Delta{r} & F_{{22}} \\Delta{c} & \\frac{- T^{1}_{{2}} + T^{N}_{{2}}}{N - 1} & T^{1}_{{2}}\\\\F_{{31}} \\Delta{r} & F_{{32}} \\Delta{c} & \\frac{- T^{1}_{{3}} + T^{N}_{{3}}}{N - 1} & T^{1}_{{3}}\\\\0 & 0 & 0 & 1\\end{matrix}\\right]$$"
      ]
     },
     "metadata": {},
     "output_type": "display_data"
    },
    {
     "data": {
      "text/latex": [
       "$$\\left[\\begin{matrix}F_{{11}} \\Delta{r} & F_{{12}} \\Delta{c} & \\Delta{s} n_{{1}} & T^{1}_{{1}}\\\\F_{{21}} \\Delta{r} & F_{{22}} \\Delta{c} & \\Delta{s} n_{{2}} & T^{1}_{{2}}\\\\F_{{31}} \\Delta{r} & F_{{32}} \\Delta{c} & \\Delta{s} n_{{3}} & T^{1}_{{3}}\\\\0 & 0 & 0 & 1\\end{matrix}\\right]$$"
      ]
     },
     "metadata": {},
     "output_type": "display_data"
    }
   ],
   "source": [
    "# Check that SPM gave us the same result\n",
    "A_ms_0based = A_ms * one_based\n",
    "A_ms_0based.simplify()\n",
    "A_ss_0based = A_ss * one_based\n",
    "A_ss_0based.simplify()\n",
    "disp_eqn(A_ms_0based)\n",
    "disp_eqn(A_ss_0based)\n",
    "assert single_aff == A_ss_0based\n",
    "assert multi_aff_solved == A_ms_0based"
   ]
  },
  {
   "cell_type": "code",
   "execution_count": 25,
   "metadata": {
    "collapsed": false
   },
   "outputs": [
    {
     "data": {
      "text/latex": [
       "$$\\left[\\begin{matrix}T^{1}_{{1}}\\\\T^{1}_{{2}}\\\\T^{1}_{{3}}\\end{matrix}\\right]$$"
      ]
     },
     "metadata": {},
     "output_type": "display_data"
    },
    {
     "data": {
      "text/latex": [
       "$$\\left[\\begin{matrix}T^{1}_{{1}} + \\Delta{s} d n_{{1}}\\\\T^{1}_{{2}} + \\Delta{s} d n_{{2}}\\\\T^{1}_{{3}} + \\Delta{s} d n_{{3}}\\end{matrix}\\right]$$"
      ]
     },
     "metadata": {},
     "output_type": "display_data"
    }
   ],
   "source": [
    "# Now, trying to work out Z from slice affines\n",
    "A_i = single_aff\n",
    "nz_trans = sym.eye(4)\n",
    "NZT = sym.Symbol('d')\n",
    "nz_trans[2,3] = NZT\n",
    "A_j = A_i * nz_trans\n",
    "IPP_i = A_i[:3,3]\n",
    "IPP_j = A_j[:3,3]\n",
    "\n",
    "disp_eqn(IPP_i)\n",
    "disp_eqn(IPP_j)"
   ]
  },
  {
   "cell_type": "code",
   "execution_count": 26,
   "metadata": {
    "collapsed": false
   },
   "outputs": [
    {
     "data": {
      "text/latex": [
       "$$\\left[\\begin{matrix}n_{{1}} \\left(T^{1}_{{1}} + \\Delta{s} d n_{{1}}\\right) + n_{{2}} \\left(T^{1}_{{2}} + \\Delta{s} d n_{{2}}\\right) + n_{{3}} \\left(T^{1}_{{3}} + \\Delta{s} d n_{{3}}\\right)\\end{matrix}\\right]$$"
      ]
     },
     "metadata": {},
     "output_type": "display_data"
    }
   ],
   "source": [
    "# SPM does it with the inner product of the vectors\n",
    "spm_z = IPP_j.T * orient_cross\n",
    "spm_z.simplify()\n",
    "disp_eqn(spm_z)"
   ]
  },
  {
   "cell_type": "code",
   "execution_count": 29,
   "metadata": {
    "collapsed": false
   },
   "outputs": [
    {
     "data": {
      "text/latex": [
       "$$\\frac{1}{n_{{1}} + n_{{2}} + n_{{3}}} \\left(T^{1}_{{1}} + T^{1}_{{2}} + T^{1}_{{3}} + \\Delta{s} d n_{{1}} + \\Delta{s} d n_{{2}} + \\Delta{s} d n_{{3}}\\right)$$"
      ]
     },
     "metadata": {},
     "output_type": "display_data"
    }
   ],
   "source": [
    "# We can also do it with a sum and division, but then we'd get undefined\n",
    "# behavior when orient_cross sums to zero.\n",
    "ipp_sum_div = sum(IPP_j) / sum(orient_cross)\n",
    "ipp_sum_div = sym.simplify(ipp_sum_div)\n",
    "disp_eqn(ipp_sum_div)"
   ]
  },
  {
   "cell_type": "code",
   "execution_count": 37,
   "metadata": {
    "collapsed": false
   },
   "outputs": [],
   "source": [
    "str_latex = ('Latex stuff\\n' +\n",
    "             '    R = ' + my_latex(to_inv) + '\\n\\n' +\n",
    "             '   L = ' + my_latex(inv_lhs) + '\\n\\n' +\n",
    "             '   0B = ' + my_latex(one_based) + '\\n\\n' +\n",
    "             '   ' + my_latex(solved)  + '\\n\\n' +\n",
    "             '   A_{multi} = ' + my_latex(multi_aff_solved)  + '\\n\\n' +\n",
    "             '   A_{single} = ' + my_latex(single_aff)  + '\\n\\n' +\n",
    "             r'   \\left(\\begin{smallmatrix}T^N\\\\1\\end{smallmatrix}\\right) = A ' +\n",
    "             my_latex(trans_z_N)   + '\\n\\n' +\n",
    "             '   A_j = A_{single} ' + my_latex(nz_trans)  + '\\n\\n' +\n",
    "             '   T^j = ' + my_latex(IPP_j)  + '\\n\\n' +\n",
    "             '  T^j \\cdot \\mathbf{c} = ' + my_latex(spm_z)  + '\\n')"
   ]
  },
  {
   "cell_type": "code",
   "execution_count": 38,
   "metadata": {
    "collapsed": false
   },
   "outputs": [
    {
     "name": "stdout",
     "output_type": "stream",
     "text": [
      "Latex stuff\n",
      "    R = left[\\begin{matrix}1 & a & 1 & 0\\\\1 & b & 0 & 1\\\\1 & c & 0 & 0\\\\1 & d & 0 & 0\\end{matrix}\\right\n",
      "\n",
      "   L = left[\\begin{matrix}T^{1}_{{1}} & e & F_{{11}} \\Delta{r} & F_{{12}} \\Delta{c}\\\\T^{1}_{{2}} & f & F_{{21}} \\Delta{r} & F_{{22}} \\Delta{c}\\\\T^{1}_{{3}} & g & F_{{31}} \\Delta{r} & F_{{32}} \\Delta{c}\\\\1 & h & 0 & 0\\end{matrix}\\right\n",
      "\n",
      "   0B = left[\\begin{matrix}1 & 0 & 0 & 1\\\\0 & 1 & 0 & 1\\\\0 & 0 & 1 & 1\\\\0 & 0 & 0 & 1\\end{matrix}\\right\n",
      "\n",
      "   left \\{ k_{{1}} : \\frac{- T^{1}_{{1}} + T^{N}_{{1}}}{N - 1}, \\quad k_{{2}} : \\frac{- T^{1}_{{2}} + T^{N}_{{2}}}{N - 1}, \\quad k_{{3}} : \\frac{- T^{1}_{{3}} + T^{N}_{{3}}}{N - 1}\\right \\\n",
      "\n",
      "   A_{multi} = left[\\begin{matrix}F_{{11}} \\Delta{r} & F_{{12}} \\Delta{c} & \\frac{- T^{1}_{{1}} + T^{N}_{{1}}}{N - 1} & T^{1}_{{1}}\\\\F_{{21}} \\Delta{r} & F_{{22}} \\Delta{c} & \\frac{- T^{1}_{{2}} + T^{N}_{{2}}}{N - 1} & T^{1}_{{2}}\\\\F_{{31}} \\Delta{r} & F_{{32}} \\Delta{c} & \\frac{- T^{1}_{{3}} + T^{N}_{{3}}}{N - 1} & T^{1}_{{3}}\\\\0 & 0 & 0 & 1\\end{matrix}\\right\n",
      "\n",
      "   A_{single} = left[\\begin{matrix}F_{{11}} \\Delta{r} & F_{{12}} \\Delta{c} & \\Delta{s} n_{{1}} & T^{1}_{{1}}\\\\F_{{21}} \\Delta{r} & F_{{22}} \\Delta{c} & \\Delta{s} n_{{2}} & T^{1}_{{2}}\\\\F_{{31}} \\Delta{r} & F_{{32}} \\Delta{c} & \\Delta{s} n_{{3}} & T^{1}_{{3}}\\\\0 & 0 & 0 & 1\\end{matrix}\\right\n",
      "\n",
      "   \\left(\\begin{smallmatrix}T^N\\\\1\\end{smallmatrix}\\right) = A left[\\begin{matrix}0\\\\0\\\\N - 1\\\\1\\end{matrix}\\right\n",
      "\n",
      "   A_j = A_{single} left[\\begin{matrix}1 & 0 & 0 & 0\\\\0 & 1 & 0 & 0\\\\0 & 0 & 1 & d\\\\0 & 0 & 0 & 1\\end{matrix}\\right\n",
      "\n",
      "   T^j = left[\\begin{matrix}T^{1}_{{1}} + \\Delta{s} d n_{{1}}\\\\T^{1}_{{2}} + \\Delta{s} d n_{{2}}\\\\T^{1}_{{3}} + \\Delta{s} d n_{{3}}\\end{matrix}\\right\n",
      "\n",
      "  T^j \\cdot \\mathbf{c} = left[\\begin{matrix}n_{{1}} \\left(T^{1}_{{1}} + \\Delta{s} d n_{{1}}\\right) + n_{{2}} \\left(T^{1}_{{2}} + \\Delta{s} d n_{{2}}\\right) + n_{{3}} \\left(T^{1}_{{3}} + \\Delta{s} d n_{{3}}\\right)\\end{matrix}\\right\n",
      "\n"
     ]
    }
   ],
   "source": [
    "print(str_latex)"
   ]
  },
  {
   "cell_type": "code",
   "execution_count": null,
   "metadata": {
    "collapsed": true
   },
   "outputs": [],
   "source": []
  }
 ],
 "metadata": {
  "kernelspec": {
   "display_name": "Python 2",
   "language": "python",
   "name": "python2"
  },
  "language_info": {
   "codemirror_mode": {
    "name": "ipython",
    "version": 2
   },
   "file_extension": ".py",
   "mimetype": "text/x-python",
   "name": "python",
   "nbconvert_exporter": "python",
   "pygments_lexer": "ipython2",
   "version": "2.7.10"
  }
 },
 "nbformat": 4,
 "nbformat_minor": 0
}
